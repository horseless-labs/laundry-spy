{
 "cells": [
  {
   "cell_type": "code",
   "execution_count": 14,
   "metadata": {},
   "outputs": [],
   "source": [
    "from selenium import webdriver\n",
    "import time, os\n",
    "import io\n",
    "import requests\n",
    "from bs4 import BeautifulSoup\n",
    "from PIL import Image\n",
    "import hashlib"
   ]
  },
  {
   "cell_type": "code",
   "execution_count": 2,
   "metadata": {},
   "outputs": [],
   "source": [
    "# When migrating away from Jupyter notebook, this will proabbly be moved to a __main__\n",
    "DRIVER_PATH = \"./chromedriver\"\n",
    "wd = webdriver.Chrome(executable_path=DRIVER_PATH)"
   ]
  },
  {
   "cell_type": "code",
   "execution_count": 3,
   "metadata": {},
   "outputs": [],
   "source": [
    "def fetch_image_urls(query:str, max_links_to_fetch:int, wd:webdriver, sleep_between_interactions:int=1):\n",
    "    def scroll_to_end(wd):\n",
    "        wd.execute_script(\"window.scrollTo(0, document.body.scrollHeight);\")\n",
    "        time.sleep(sleep_between_interactions)\n",
    "        \n",
    "    search_url = \"https://www.google.com/search?safe=off&site=&tbm=isch&source=hp&q={q}&oq={q}&gs_l=img\"\n",
    "    \n",
    "    wd.get(search_url.format(q=query))\n",
    "    \n",
    "    image_urls = set()\n",
    "    image_count = 0\n",
    "    results_start = 0\n",
    "    \n",
    "    while image_count < max_links_to_fetch:\n",
    "        scroll_to_end(wd)\n",
    "        \n",
    "        thumbnail_results = wd.find_elements_by_css_selector(\"img.rg_ic\")\n",
    "        number_results = len(thumbnail_results)\n",
    "        \n",
    "        print(f\"Found: {number_results} search results. Extracting links from {results_start}:{number_results}\")\n",
    "        \n",
    "        for img in thumbnail_results[results_start:number_results]:\n",
    "            try:\n",
    "                img.click()\n",
    "                time.sleep(sleep_between_interactions)\n",
    "            except Exception:\n",
    "                continue\n",
    "                \n",
    "            actual_images = wd.find_elements_by_css_selector('img.irc_mi')\n",
    "            for actual_image in actual_images:\n",
    "                if actual_image.get_attribute('src'):\n",
    "                    image_urls.add(actual_image.get_attribute('src'))\n",
    "                    \n",
    "            image_count = len(image_urls)\n",
    "            \n",
    "            if image_count >= max_links_to_fetch:\n",
    "                print(f\"Found: {image_count} image links, done!\")\n",
    "                break\n",
    "            else:\n",
    "                print(\"Found:\", image_count, \"image links, looking for more...\")\n",
    "                time.sleep(1)\n",
    "                load_more_button = wd.find_element_by_css_selector(\".ksb\")\n",
    "                if load_more_button:\n",
    "                    wd.execute_script(\"document.querySelector('.ksb').click();\")\n",
    "                    \n",
    "            results_start = len(thumbnail_results)\n",
    "    return image_urls"
   ]
  },
  {
   "cell_type": "code",
   "execution_count": 4,
   "metadata": {},
   "outputs": [
    {
     "name": "stdout",
     "output_type": "stream",
     "text": [
      "Found: 200 search results. Extracting links from 0:200\n",
      "Found: 2 image links, looking for more...\n",
      "Found: 3 image links, looking for more...\n",
      "Found: 4 image links, looking for more...\n",
      "Found: 5 image links, done!\n"
     ]
    },
    {
     "data": {
      "text/plain": [
       "{'https://download.ams.birds.cornell.edu/api/v1/asset/70589261/1800',\n",
       " 'https://nhpbs.org/wild/images/whitepelicanjohnfosterusfw.jpg',\n",
       " 'https://upload.wikimedia.org/wikipedia/commons/1/1f/Pelecanus_conspicillatus_-_Doughboy_Head.jpg',\n",
       " 'https://upload.wikimedia.org/wikipedia/commons/d/d4/Pelikan_Walvis_Bay.jpg',\n",
       " 'https://upload.wikimedia.org/wikipedia/commons/thumb/7/75/Australian_Pelican_showing_large_pouch.jpg/220px-Australian_Pelican_showing_large_pouch.jpg'}"
      ]
     },
     "execution_count": 4,
     "metadata": {},
     "output_type": "execute_result"
    }
   ],
   "source": [
    "fetch_image_urls(\"pelican\", 5, wd)"
   ]
  },
  {
   "cell_type": "code",
   "execution_count": 4,
   "metadata": {},
   "outputs": [],
   "source": [
    "# wd.quit()"
   ]
  },
  {
   "cell_type": "code",
   "execution_count": 10,
   "metadata": {},
   "outputs": [],
   "source": [
    "def persist_image(folder_path:str, url:str):\n",
    "    try:\n",
    "        image_content = requests.get(url).content\n",
    "    except Exception as e:\n",
    "        print(f\"ERROR - could not download {url} - {e}\")\n",
    "        \n",
    "    try:\n",
    "        image_file = io.BytesIO(image_content)\n",
    "        image = Image.open(image_file).convert('RGB')\n",
    "        file_path = os.path.join(folder_path, hashlib.sha1(image_content).hexdigest()[:10] + '.jpg')\n",
    "        with open(file_path, 'wb') as f:\n",
    "            image.save(f, \"JPEG\", quality=85)\n",
    "        print(f\"SUCCESS - saved {url} - as {file_path}\")\n",
    "    except Exception as e:\n",
    "        print(f\"ERROR - Could not save {url} - {e}\")"
   ]
  },
  {
   "cell_type": "code",
   "execution_count": 6,
   "metadata": {},
   "outputs": [],
   "source": [
    "def search_and_download(search_term:str, driver_path:str, target_path='./images', number_images=5):\n",
    "    target_folder = os.path.join(target_path, '_'.join(search_term.lower().split(' ')))\n",
    "    \n",
    "    if not os.path.exists(target_folder):\n",
    "        os.makedirs(target_folder)\n",
    "    \n",
    "    with webdriver.Chrome(executable_path=driver_path) as wd:\n",
    "        res = fetch_image_urls(search_term, number_images, wd=wd, sleep_between_interactions=0.5)\n",
    "        \n",
    "    for elem in res:\n",
    "        persist_image(target_folder, elem)"
   ]
  },
  {
   "cell_type": "code",
   "execution_count": 16,
   "metadata": {},
   "outputs": [
    {
     "name": "stdout",
     "output_type": "stream",
     "text": [
      "Found: 200 search results. Extracting links from 0:200\n",
      "Found: 1 image links, looking for more...\n",
      "Found: 2 image links, looking for more...\n",
      "Found: 3 image links, looking for more...\n",
      "Found: 4 image links, looking for more...\n",
      "Found: 5 image links, done!\n",
      "SUCCESS - saved https://cdn.theatlantic.com/assets/media/img/photo/2018/11/photos-companionable-capybaras/c01_890874902-1/original.jpg - as ./images/capybara/ac2fe0197b.jpg\n",
      "SUCCESS - saved https://www.nationalgeographic.com/content/dam/animals/thumbs/rights-exempt/mammals/c/capybara.jpg - as ./images/capybara/cb8ab7371e.jpg\n",
      "SUCCESS - saved https://animals.sandiegozoo.org/sites/default/files/2016-10/animals_hero_capybara.jpg - as ./images/capybara/4763ed2363.jpg\n",
      "SUCCESS - saved https://upload.wikimedia.org/wikipedia/commons/e/ec/Capybara_%28Hydrochoerus_hydrochaeris%29.JPG - as ./images/capybara/89341033c0.jpg\n",
      "SUCCESS - saved https://www.rainforest-alliance.org/sites/default/files/styles/750w_585h/public/2016-09/capybara.jpg?itok=_4AI2DG6 - as ./images/capybara/37be56931f.jpg\n"
     ]
    }
   ],
   "source": [
    "search_term = \"capybara\"\n",
    "\n",
    "search_and_download(search_term=search_term, driver_path=DRIVER_PATH)"
   ]
  },
  {
   "cell_type": "code",
   "execution_count": null,
   "metadata": {},
   "outputs": [],
   "source": []
  }
 ],
 "metadata": {
  "kernelspec": {
   "display_name": "Python 3",
   "language": "python",
   "name": "python3"
  },
  "language_info": {
   "codemirror_mode": {
    "name": "ipython",
    "version": 3
   },
   "file_extension": ".py",
   "mimetype": "text/x-python",
   "name": "python",
   "nbconvert_exporter": "python",
   "pygments_lexer": "ipython3",
   "version": "3.7.4"
  }
 },
 "nbformat": 4,
 "nbformat_minor": 2
}
